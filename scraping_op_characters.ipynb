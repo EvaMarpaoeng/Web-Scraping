{
 "cells": [
  {
   "cell_type": "code",
   "execution_count": 108,
   "id": "e284b621-2962-495d-a830-99f00b4167bf",
   "metadata": {},
   "outputs": [],
   "source": [
    "# Importing necessary packages for web scrapping \n",
    "from bs4 import BeautifulSoup\n",
    "import requests\n",
    "import pandas as pd"
   ]
  },
  {
   "cell_type": "code",
   "execution_count": 103,
   "id": "49d20794-3806-4361-9798-52b5c7f17419",
   "metadata": {},
   "outputs": [],
   "source": [
    "# Define the URL of the webpage to scrape  \n",
    "URL = \"https://onepiece.fandom.com/wiki/List_of_Canon_Characters\"\n",
    "r = requests.get(URL)\n",
    "soup = BeautifulSoup(r.content, 'html.parser')\n",
    "table_names = soup.find('table', attrs={'class': 'wikitable sortable'}).findAll('tr')\n",
    "data = [[j for j in i.findAll('td')] for i in table_names[1:]]"
   ]
  },
  {
   "cell_type": "code",
   "execution_count": 104,
   "id": "1b6de55c-057b-4e6f-8f36-b0919ced24b3",
   "metadata": {},
   "outputs": [],
   "source": [
    "# Data cleaning\n",
    "characters_list = []\n",
    "for row in data:\n",
    "    name = row[1].text.strip()\n",
    "    characters_list.append([name])"
   ]
  },
  {
   "cell_type": "code",
   "execution_count": 107,
   "id": "99e3b485-b8d7-4dd3-921c-e426d15ad6a8",
   "metadata": {},
   "outputs": [],
   "source": [
    "# Import data into dataframe\n",
    "df = pd.DataFrame(characters_list, columns=[\"Name\"])\n",
    "\n",
    "# Import dataframe into csv file\n",
    "csv_filename = \"one_piece_characters.csv\"\n",
    "df.to_csv(csv_filename, index=False)"
   ]
  },
  {
   "cell_type": "code",
   "execution_count": 109,
   "id": "d0c5533f-3693-4beb-9f2e-3c4475d45283",
   "metadata": {},
   "outputs": [
    {
     "data": {
      "text/html": [
       "<div>\n",
       "<style scoped>\n",
       "    .dataframe tbody tr th:only-of-type {\n",
       "        vertical-align: middle;\n",
       "    }\n",
       "\n",
       "    .dataframe tbody tr th {\n",
       "        vertical-align: top;\n",
       "    }\n",
       "\n",
       "    .dataframe thead th {\n",
       "        text-align: right;\n",
       "    }\n",
       "</style>\n",
       "<table border=\"1\" class=\"dataframe\">\n",
       "  <thead>\n",
       "    <tr style=\"text-align: right;\">\n",
       "      <th></th>\n",
       "      <th>Name</th>\n",
       "    </tr>\n",
       "  </thead>\n",
       "  <tbody>\n",
       "    <tr>\n",
       "      <th>0</th>\n",
       "      <td>A O</td>\n",
       "    </tr>\n",
       "    <tr>\n",
       "      <th>1</th>\n",
       "      <td>Abdullah</td>\n",
       "    </tr>\n",
       "    <tr>\n",
       "      <th>2</th>\n",
       "      <td>Absalom</td>\n",
       "    </tr>\n",
       "    <tr>\n",
       "      <th>3</th>\n",
       "      <td>Acilia</td>\n",
       "    </tr>\n",
       "    <tr>\n",
       "      <th>4</th>\n",
       "      <td>Adele</td>\n",
       "    </tr>\n",
       "  </tbody>\n",
       "</table>\n",
       "</div>"
      ],
      "text/plain": [
       "       Name\n",
       "0       A O\n",
       "1  Abdullah\n",
       "2   Absalom\n",
       "3    Acilia\n",
       "4     Adele"
      ]
     },
     "execution_count": 109,
     "metadata": {},
     "output_type": "execute_result"
    }
   ],
   "source": [
    "df.head()"
   ]
  },
  {
   "cell_type": "code",
   "execution_count": null,
   "id": "f56c2a37-b262-40b8-8a7e-53150936039b",
   "metadata": {},
   "outputs": [],
   "source": []
  }
 ],
 "metadata": {
  "kernelspec": {
   "display_name": "Python 3 (ipykernel)",
   "language": "python",
   "name": "python3"
  },
  "language_info": {
   "codemirror_mode": {
    "name": "ipython",
    "version": 3
   },
   "file_extension": ".py",
   "mimetype": "text/x-python",
   "name": "python",
   "nbconvert_exporter": "python",
   "pygments_lexer": "ipython3",
   "version": "3.9.7"
  }
 },
 "nbformat": 4,
 "nbformat_minor": 5
}
